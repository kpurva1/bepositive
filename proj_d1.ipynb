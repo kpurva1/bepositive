{
 "cells": [
  {
   "cell_type": "code",
   "execution_count": 33,
   "metadata": {
    "collapsed": true
   },
   "outputs": [],
   "source": [
    "from twython import Twython"
   ]
  },
  {
   "cell_type": "code",
   "execution_count": 34,
   "metadata": {
    "collapsed": false
   },
   "outputs": [],
   "source": [
    "class Tweet (object):\n",
    "    def __init__ (self, id, text):\n",
    "        self.id = id\n",
    "        self.text = text"
   ]
  },
  {
   "cell_type": "code",
   "execution_count": 35,
   "metadata": {
    "collapsed": false
   },
   "outputs": [],
   "source": [
    "#consumer_key = \"7nvOlZqscSZ7eC3TBckNtZsTR\"\n",
    "#consumer_secret = \"qcX6CV7vKGncPXQmuV5tHPysBgnXOnh0Ll426MAGKT5vqDkWt1\"\n",
    "#access_token = \"65634842-1JnWcq6x2l7Lz4QI5LUkElxIQqQayqYQm8N5lWjyR\"\n",
    "#access_token_secret = \"CFzIsNeuUndGhOAmjulrLVpSvIcViONTzB4Et784htP3K\"\n",
    "\n",
    "consumer_key = \"qDukgCLbdREiBA0Y9LoKi1fIW\"\n",
    "consumer_secret = \"cFsf9EKIxcbE2WAUgbZd4tTS5GOB2dhlmNowQnCINok6LGQOet\"\n",
    "access_token = \"753359475826843648-H1R8lruNFkRd4W15f0F5BkQqM23JTH9\"\n",
    "access_token_secret = \"YY8Zbu2JXYSpN16GopiIKNxduWjcjCc2riXulFaOlIkou\""
   ]
  },
  {
   "cell_type": "code",
   "execution_count": 36,
   "metadata": {
    "collapsed": true
   },
   "outputs": [],
   "source": [
    "tweet_data = Twython(consumer_key, consumer_secret, access_token, access_token_secret)\n"
   ]
  },
  {
   "cell_type": "code",
   "execution_count": 37,
   "metadata": {
    "collapsed": true
   },
   "outputs": [],
   "source": [
    "#suicidal_terms = ['Suicide','Suicidal','OCD']\n",
    "suicideterms = open('suicideterms.txt','r')"
   ]
  },
  {
   "cell_type": "code",
   "execution_count": 38,
   "metadata": {
    "collapsed": false
   },
   "outputs": [],
   "source": [
    "#for term in suicideterms:\n",
    " #   print(term)"
   ]
  },
  {
   "cell_type": "code",
   "execution_count": 39,
   "metadata": {
    "collapsed": true
   },
   "outputs": [],
   "source": [
    "tweet_file = open('suicide_tweets.txt','a',encoding='utf-8')"
   ]
  },
  {
   "cell_type": "code",
   "execution_count": 40,
   "metadata": {
    "collapsed": false,
    "scrolled": true
   },
   "outputs": [],
   "source": [
    "for term in suicideterms:\n",
    "    tweets = tweet_data.search(q=term, count=500, lang='en')\n",
    "    for tweet in tweets['statuses']:\n",
    "        tweet_file.write(tweet['text'] + '\\n')  \n",
    "        #tweet_file.write('\\n')\n",
    "        #print (tweet['text'])"
   ]
  },
  {
   "cell_type": "code",
   "execution_count": 83,
   "metadata": {
    "collapsed": false
   },
   "outputs": [],
   "source": [
    "#for tweet in tweets['statuses']:\n",
    "    #tweet_file.write(tweet['text'] + '\\n')    \n",
    "    #print (tweet['text'])"
   ]
  },
  {
   "cell_type": "code",
   "execution_count": 41,
   "metadata": {
    "collapsed": true
   },
   "outputs": [],
   "source": [
    "tweet_file.close()"
   ]
  },
  {
   "cell_type": "code",
   "execution_count": 42,
   "metadata": {
    "collapsed": true
   },
   "outputs": [],
   "source": [
    "suicideterms.close()"
   ]
  },
  {
   "cell_type": "code",
   "execution_count": null,
   "metadata": {
    "collapsed": true
   },
   "outputs": [],
   "source": []
  }
 ],
 "metadata": {
  "anaconda-cloud": {},
  "kernelspec": {
   "display_name": "Python [Root]",
   "language": "python",
   "name": "Python [Root]"
  },
  "language_info": {
   "codemirror_mode": {
    "name": "ipython",
    "version": 3
   },
   "file_extension": ".py",
   "mimetype": "text/x-python",
   "name": "python",
   "nbconvert_exporter": "python",
   "pygments_lexer": "ipython3",
   "version": "3.5.2"
  }
 },
 "nbformat": 4,
 "nbformat_minor": 0
}
