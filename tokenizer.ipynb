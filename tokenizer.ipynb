{
 "cells": [
  {
   "cell_type": "code",
   "execution_count": 1,
   "metadata": {
    "collapsed": false
   },
   "outputs": [
    {
     "name": "stdout",
     "output_type": "stream",
     "text": [
      "[nltk_data] Downloading package punkt to\n",
      "[nltk_data]     C:\\Users\\purva\\AppData\\Roaming\\nltk_data...\n",
      "[nltk_data]   Unzipping tokenizers\\punkt.zip.\n"
     ]
    },
    {
     "data": {
      "text/plain": [
       "True"
      ]
     },
     "execution_count": 1,
     "metadata": {},
     "output_type": "execute_result"
    }
   ],
   "source": [
    "import nltk\n",
    "nltk.download('punkt')"
   ]
  },
  {
   "cell_type": "code",
   "execution_count": 2,
   "metadata": {
    "collapsed": true
   },
   "outputs": [],
   "source": [
    "sentence = \"\"\"At eight o'clock on Thursday morning\"\"\""
   ]
  },
  {
   "cell_type": "code",
   "execution_count": 3,
   "metadata": {
    "collapsed": false
   },
   "outputs": [],
   "source": [
    "tokens = nltk.word_tokenize(sentence)"
   ]
  },
  {
   "cell_type": "code",
   "execution_count": 4,
   "metadata": {
    "collapsed": false
   },
   "outputs": [
    {
     "data": {
      "text/plain": [
       "['At', 'eight', \"o'clock\", 'on', 'Thursday', 'morning']"
      ]
     },
     "execution_count": 4,
     "metadata": {},
     "output_type": "execute_result"
    }
   ],
   "source": [
    "tokens"
   ]
  },
  {
   "cell_type": "code",
   "execution_count": 68,
   "metadata": {
    "collapsed": false
   },
   "outputs": [],
   "source": [
    "import os\n",
    "dirpath = os.path.dirname(os.path.realpath('Desktop')) \n",
    "tweet_file_path = dirpath + \"\\suicide_tweets.txt\"\n",
    "fp_tweet = open(tweet_file_path, \"r\", encoding=\"utf8\")\n",
    "csv_fp_tweet = open(\"suicide_tweets_csv.csv\", 'w')"
   ]
  },
  {
   "cell_type": "code",
   "execution_count": 69,
   "metadata": {
    "collapsed": false
   },
   "outputs": [],
   "source": [
    "lines = fp_tweet.readlines()"
   ]
  },
  {
   "cell_type": "code",
   "execution_count": 70,
   "metadata": {
    "collapsed": false
   },
   "outputs": [],
   "source": [
    "import re\n",
    "\n",
    "#token_list = []\n",
    "for line in lines:\n",
    "    try:\n",
    "        if line.strip():\n",
    "            tokens =  line.split(' ')\n",
    "            \n",
    "            ##Remove special characters\n",
    "            for token in tokens:\n",
    "                if not re.search('[^A-Za-z0-9]+', token) == None:\n",
    "                    del tokens[tokens.index(token)]\n",
    "                \n",
    "\n",
    "            tokens_string = ','.join(tokens)\n",
    "            \n",
    "            if len(tokens_string) >= 1:\n",
    "                print(tokens_string, file = csv_fp_tweet,)\n",
    "                #print(str(len(tokens_string)) + tokens_string) \n",
    "    except:\n",
    "       continue"
   ]
  },
  {
   "cell_type": "code",
   "execution_count": 71,
   "metadata": {
    "collapsed": false
   },
   "outputs": [],
   "source": [
    "fp_tweet.close()"
   ]
  },
  {
   "cell_type": "code",
   "execution_count": 72,
   "metadata": {
    "collapsed": true
   },
   "outputs": [],
   "source": [
    "csv_fp_tweet.close()"
   ]
  },
  {
   "cell_type": "code",
   "execution_count": 30,
   "metadata": {
    "collapsed": true
   },
   "outputs": [],
   "source": [
    "rpost_file_path = dirpath + \"\\suicide_posts.txt\"\n",
    "fp_rpost = open(rpost_file_path, \"r\", encoding=\"utf8\")\n",
    "csv_fp_rpost = open(\"suicide_posts_csv.csv\", 'w')"
   ]
  },
  {
   "cell_type": "code",
   "execution_count": 31,
   "metadata": {
    "collapsed": true
   },
   "outputs": [],
   "source": [
    "posts = fp_rpost.readlines()"
   ]
  },
  {
   "cell_type": "code",
   "execution_count": 32,
   "metadata": {
    "collapsed": true
   },
   "outputs": [],
   "source": [
    "\n",
    "#token_list = []\n",
    "for post in posts:\n",
    "    try:\n",
    "        if post.strip():\n",
    "            post_tokens =  post.split(' ')\n",
    "            \n",
    "            ##Remove special characters\n",
    "            for post_token in post_tokens:\n",
    "                if not re.search('[^A-Za-z0-9]+', post_token) == None:\n",
    "                    del post_tokens[post_tokens.index(post_token)]\n",
    "\n",
    "            post_tokens_string = ','.join(post_tokens)\n",
    "            \n",
    "            if len(post_tokens_string) >= 1:\n",
    "                print(post_tokens_string, file = csv_fp_rpost,)\n",
    "                #print(str(len(tokens_string)) + tokens_string) \n",
    "    except:\n",
    "       continue"
   ]
  },
  {
   "cell_type": "code",
   "execution_count": 33,
   "metadata": {
    "collapsed": true
   },
   "outputs": [],
   "source": [
    "fp_rpost.close()"
   ]
  },
  {
   "cell_type": "code",
   "execution_count": 34,
   "metadata": {
    "collapsed": true
   },
   "outputs": [],
   "source": [
    "csv_fp_rpost.close()"
   ]
  },
  {
   "cell_type": "code",
   "execution_count": null,
   "metadata": {
    "collapsed": true
   },
   "outputs": [],
   "source": []
  }
 ],
 "metadata": {
  "anaconda-cloud": {},
  "kernelspec": {
   "display_name": "Python [Root]",
   "language": "python",
   "name": "Python [Root]"
  },
  "language_info": {
   "codemirror_mode": {
    "name": "ipython",
    "version": 3
   },
   "file_extension": ".py",
   "mimetype": "text/x-python",
   "name": "python",
   "nbconvert_exporter": "python",
   "pygments_lexer": "ipython3",
   "version": "3.5.2"
  }
 },
 "nbformat": 4,
 "nbformat_minor": 0
}
