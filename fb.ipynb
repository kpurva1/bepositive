{
 "cells": [
  {
   "cell_type": "code",
   "execution_count": 7,
   "metadata": {
    "collapsed": true
   },
   "outputs": [],
   "source": [
    "import urllib.request as urllib3"
   ]
  },
  {
   "cell_type": "code",
   "execution_count": 8,
   "metadata": {
    "collapsed": true
   },
   "outputs": [],
   "source": [
    "import facebook"
   ]
  },
  {
   "cell_type": "code",
   "execution_count": 9,
   "metadata": {
    "collapsed": true
   },
   "outputs": [],
   "source": [
    "import requests"
   ]
  },
  {
   "cell_type": "code",
   "execution_count": 10,
   "metadata": {
    "collapsed": true
   },
   "outputs": [],
   "source": [
    "token = 'EAANG9Wi3FPoBAO2BAsjbjF8UGPC1qfpkNdXBoXNzBLKIKWPZBclFRNlZCLqZAyabnfoGYYkxCMvtRHqi5ehEEaMYhRgZAH3tSjtVzEJVXSHQPkfyS0OruAGEz3IPN64B8yiwlEzEy8KqpnIpOQX5dlZCoLgeSJdKUPabHXEQwabfZAy8OqOHDOlc63bwhVSqsZD'"
   ]
  },
  {
   "cell_type": "code",
   "execution_count": 11,
   "metadata": {
    "collapsed": false
   },
   "outputs": [],
   "source": [
    "graph = facebook.GraphAPI(access_token=token, version = 2.7)\n",
    "events = graph.request('/search?q=Poetry&type=event&limit=10')"
   ]
  },
  {
   "cell_type": "code",
   "execution_count": 12,
   "metadata": {
    "collapsed": true
   },
   "outputs": [],
   "source": [
    "eventList = events['data']"
   ]
  },
  {
   "cell_type": "code",
   "execution_count": 13,
   "metadata": {
    "collapsed": true
   },
   "outputs": [],
   "source": [
    "eventid = eventList[1]['id']"
   ]
  },
  {
   "cell_type": "code",
   "execution_count": 14,
   "metadata": {
    "collapsed": false
   },
   "outputs": [
    {
     "name": "stdout",
     "output_type": "stream",
     "text": [
      "1305612379527052\n"
     ]
    }
   ],
   "source": [
    "print (eventid)"
   ]
  },
  {
   "cell_type": "code",
   "execution_count": 15,
   "metadata": {
    "collapsed": false
   },
   "outputs": [
    {
     "name": "stdout",
     "output_type": "stream",
     "text": [
      "{'end_time': '2017-03-29T20:00:00-0500', 'id': '1305612379527052', 'start_time': '2017-03-29T19:00:00-0500', 'description': '“Because We Come from Everything: Poetry & Migration” is the inaugural theme of the Poetry Coalition, a collective of twenty organizations around the country, who will present programs on the shared topic in March. This reading, cosponsored with Kundiman and Letras Latinas, presents poets Hieu Minh Nguyen, José B. González, Tarfia Faizullah, and Emmy Pérez.\\n\\nHIEU MINH NGUYEN is a Kundiman fellow, a poetry editor for Muzzle magazine, and the author of \"This Way to the Sugar\" (2014) and the forthcoming collection \"Not Here\" (2018). \\n\\nJOSÉ B. GONZÁLEZ is the author of the International Latino Book Award Finalist, \"Toys Made of Rock.\" A Fulbright Scholar, he has been a featured speaker at colleges throughout the United States, as well as the Smithsonian Museum of African Art and the Smithsonian Museum of the American Indian. \\n\\nTARFIA FAIZULLAH\\'S poems appear widely in periodicals and anthologies both in the United States and abroad, and have been translated into Bengali, Spanish, Persian, and Chinese. She is the author of \"Seam\" (2016) and \"Registers of Illuminated Villages\" (forthcoming in 2018). \\n\\nEMMY PÉREZ, a past CantoMundo fellow, is the author of \"With the River on Our Face\" (2016) and \"Solstice\" (2011).\\n\\nCosponsored with Kundiman and Letras Latinas at Notre Dame\\'s Institute for Latino Studies.\\n\\nRead the Poetry Coalition\\'s collection of poems about migration at https://www.poets.org/poetsorg/poems-about-migration\\n\\nMore information at http://poet.ly/GZ5e309ItW8\\n\\n#WeComeFromEverything #PoetryCoalition', 'place': {'id': '33796084659', 'location': {'state': 'IL', 'country': 'United States', 'longitude': -87.630195023333, 'zip': '60654', 'street': '61 W Superior St', 'latitude': 41.895674110305, 'city': 'Chicago'}, 'name': 'Poetry Foundation & Poetry Magazine'}, 'name': 'Poetry & Migration'}\n"
     ]
    }
   ],
   "source": [
    "print (eventList[1])"
   ]
  },
  {
   "cell_type": "code",
   "execution_count": 16,
   "metadata": {
    "collapsed": false
   },
   "outputs": [],
   "source": [
    "\n",
    "page = graph.request('/search?q=Suicide&type=page&limit=10')"
   ]
  },
  {
   "cell_type": "code",
   "execution_count": 18,
   "metadata": {
    "collapsed": false
   },
   "outputs": [],
   "source": [
    "pagelist = page['data']"
   ]
  },
  {
   "cell_type": "code",
   "execution_count": 19,
   "metadata": {
    "collapsed": true
   },
   "outputs": [],
   "source": [
    "pageid = pagelist[1]['id']"
   ]
  },
  {
   "cell_type": "code",
   "execution_count": 20,
   "metadata": {
    "collapsed": false
   },
   "outputs": [
    {
     "name": "stdout",
     "output_type": "stream",
     "text": [
      "1550484941898808\n"
     ]
    }
   ],
   "source": [
    "print (pageid)"
   ]
  },
  {
   "cell_type": "code",
   "execution_count": 21,
   "metadata": {
    "collapsed": false
   },
   "outputs": [
    {
     "name": "stdout",
     "output_type": "stream",
     "text": [
      "{'id': '1550484941898808', 'name': 'Suicide Squad'}\n"
     ]
    }
   ],
   "source": [
    "print (pagelist[1])"
   ]
  },
  {
   "cell_type": "code",
   "execution_count": 22,
   "metadata": {
    "collapsed": false
   },
   "outputs": [
    {
     "name": "stdout",
     "output_type": "stream",
     "text": [
      "[{'id': '6020654822', 'name': 'SuicideGirls'}, {'id': '1550484941898808', 'name': 'Suicide Squad'}, {'id': '107725134748', 'name': 'Suicide Silence'}, {'id': '1449988955231553', 'name': 'Survived Suicide, Defeated Depression'}, {'id': '1766705866877527', 'name': 'Suicide Squad: The Joker'}, {'id': '789775324447671', 'name': 'Pandub Suicide'}, {'id': '383405228514699', 'name': '†Suicides†'}, {'id': '482087785320517', 'name': 'Suicideboys'}, {'id': '531938507014969', 'name': 'Harley Quinn Suicide Squad'}, {'id': '1072292636117267', 'name': 'Suicide Shatters Families'}]\n"
     ]
    }
   ],
   "source": [
    "print (pagelist)"
   ]
  },
  {
   "cell_type": "code",
   "execution_count": 23,
   "metadata": {
    "collapsed": false
   },
   "outputs": [],
   "source": [
    "region = graph.request('/search/?type=adregion&q=California')"
   ]
  },
  {
   "cell_type": "code",
   "execution_count": 24,
   "metadata": {
    "collapsed": true
   },
   "outputs": [],
   "source": [
    "regionlist = region['data']"
   ]
  },
  {
   "cell_type": "code",
   "execution_count": 25,
   "metadata": {
    "collapsed": false
   },
   "outputs": [
    {
     "name": "stdout",
     "output_type": "stream",
     "text": [
      "[{'key': 6, 'country_code': 'US', 'name': 'California'}]\n"
     ]
    }
   ],
   "source": [
    "print(regionlist)"
   ]
  },
  {
   "cell_type": "code",
   "execution_count": 26,
   "metadata": {
    "collapsed": false
   },
   "outputs": [],
   "source": [
    "zipcd = graph.request('/search/?type=adzipcode&q=21227')"
   ]
  },
  {
   "cell_type": "code",
   "execution_count": 27,
   "metadata": {
    "collapsed": false
   },
   "outputs": [
    {
     "name": "stdout",
     "output_type": "stream",
     "text": [
      "{'paging': {'cursors': {'before': 'MAZDZD', 'after': 'MAZDZD'}}, 'data': [{'id': '21227', 'name': '21227'}]}\n"
     ]
    }
   ],
   "source": [
    "print (zipcd)"
   ]
  },
  {
   "cell_type": "code",
   "execution_count": 28,
   "metadata": {
    "collapsed": false
   },
   "outputs": [],
   "source": [
    "from facebookads.adobjects.targetingsearch import TargetingSearch"
   ]
  },
  {
   "cell_type": "code",
   "execution_count": 29,
   "metadata": {
    "collapsed": true
   },
   "outputs": [],
   "source": [
    "params1 = {\n",
    "    'q': 'ana',\n",
    "    'type': 'adworkposition',\n",
    "}"
   ]
  },
  {
   "cell_type": "code",
   "execution_count": 30,
   "metadata": {
    "collapsed": false
   },
   "outputs": [
    {
     "ename": "FacebookBadObjectError",
     "evalue": "An Api instance must be provided as an argument or set as the default Api in FacebookAdsApi.",
     "output_type": "error",
     "traceback": [
      "\u001b[1;31m---------------------------------------------------------------------------\u001b[0m",
      "\u001b[1;31mFacebookBadObjectError\u001b[0m                    Traceback (most recent call last)",
      "\u001b[1;32m<ipython-input-30-ecd382a38032>\u001b[0m in \u001b[0;36m<module>\u001b[1;34m()\u001b[0m\n\u001b[1;32m----> 1\u001b[1;33m \u001b[0mresp\u001b[0m \u001b[1;33m=\u001b[0m \u001b[0mTargetingSearch\u001b[0m\u001b[1;33m.\u001b[0m\u001b[0msearch\u001b[0m\u001b[1;33m(\u001b[0m\u001b[0mparams\u001b[0m\u001b[1;33m=\u001b[0m\u001b[0mparams1\u001b[0m\u001b[1;33m)\u001b[0m\u001b[1;33m\u001b[0m\u001b[0m\n\u001b[0m\u001b[0;32m      2\u001b[0m \u001b[0mprint\u001b[0m\u001b[1;33m(\u001b[0m\u001b[0mresp\u001b[0m\u001b[1;33m)\u001b[0m\u001b[1;33m\u001b[0m\u001b[0m\n",
      "\u001b[1;32mC:\\Users\\purva\\Anaconda3\\lib\\site-packages\\facebookads\\adobjects\\targetingsearch.py\u001b[0m in \u001b[0;36msearch\u001b[1;34m(cls, params, api)\u001b[0m\n\u001b[0;32m     67\u001b[0m         \u001b[1;32mif\u001b[0m \u001b[1;32mnot\u001b[0m \u001b[0mapi\u001b[0m\u001b[1;33m:\u001b[0m\u001b[1;33m\u001b[0m\u001b[0m\n\u001b[0;32m     68\u001b[0m             raise FacebookBadObjectError(\n\u001b[1;32m---> 69\u001b[1;33m                 \u001b[1;34m\"An Api instance must be provided as an argument or set as \"\u001b[0m\u001b[1;33m\u001b[0m\u001b[0m\n\u001b[0m\u001b[0;32m     70\u001b[0m                 \u001b[1;34m\"the default Api in FacebookAdsApi.\"\u001b[0m\u001b[1;33m,\u001b[0m\u001b[1;33m\u001b[0m\u001b[0m\n\u001b[0;32m     71\u001b[0m             )\n",
      "\u001b[1;31mFacebookBadObjectError\u001b[0m: An Api instance must be provided as an argument or set as the default Api in FacebookAdsApi."
     ]
    }
   ],
   "source": [
    "resp = TargetingSearch.search(params=params1)\n",
    "print(resp)"
   ]
  },
  {
   "cell_type": "code",
   "execution_count": 40,
   "metadata": {
    "collapsed": false
   },
   "outputs": [],
   "source": [
    "test = graph.request('/search/?type=event&q=suicide&limit=10')"
   ]
  },
  {
   "cell_type": "code",
   "execution_count": 36,
   "metadata": {
    "collapsed": false
   },
   "outputs": [
    {
     "name": "stdout",
     "output_type": "stream",
     "text": [
      "{'paging': {'cursors': {'before': 'MAZDZD', 'after': 'OQZDZD'}, 'next': 'https://graph.facebook.com/v2.8/search?access_token=EAANG9Wi3FPoBAO2BAsjbjF8UGPC1qfpkNdXBoXNzBLKIKWPZBclFRNlZCLqZAyabnfoGYYkxCMvtRHqi5ehEEaMYhRgZAH3tSjtVzEJVXSHQPkfyS0OruAGEz3IPN64B8yiwlEzEy8KqpnIpOQX5dlZCoLgeSJdKUPabHXEQwabfZAy8OqOHDOlc63bwhVSqsZD&q=suicide&type=page&limit=10&after=OQZDZD'}, 'data': [{'id': '6020654822', 'name': 'SuicideGirls'}, {'id': '1550484941898808', 'name': 'Suicide Squad'}, {'id': '107725134748', 'name': 'Suicide Silence'}, {'id': '1449988955231553', 'name': 'Survived Suicide, Defeated Depression'}, {'id': '1766705866877527', 'name': 'Suicide Squad: The Joker'}, {'id': '789775324447671', 'name': 'Pandub Suicide'}, {'id': '383405228514699', 'name': '†Suicides†'}, {'id': '482087785320517', 'name': 'Suicideboys'}, {'id': '531938507014969', 'name': 'Harley Quinn Suicide Squad'}, {'id': '1072292636117267', 'name': 'Suicide Shatters Families'}]}\n"
     ]
    }
   ],
   "source": [
    "print (test)\n"
   ]
  },
  {
   "cell_type": "code",
   "execution_count": 37,
   "metadata": {
    "collapsed": false
   },
   "outputs": [],
   "source": [
    "testlist = test['data']"
   ]
  },
  {
   "cell_type": "code",
   "execution_count": null,
   "metadata": {
    "collapsed": true
   },
   "outputs": [],
   "source": []
  }
 ],
 "metadata": {
  "anaconda-cloud": {},
  "kernelspec": {
   "display_name": "Python [Root]",
   "language": "python",
   "name": "Python [Root]"
  },
  "language_info": {
   "codemirror_mode": {
    "name": "ipython",
    "version": 3
   },
   "file_extension": ".py",
   "mimetype": "text/x-python",
   "name": "python",
   "nbconvert_exporter": "python",
   "pygments_lexer": "ipython3",
   "version": "3.5.2"
  }
 },
 "nbformat": 4,
 "nbformat_minor": 0
}
